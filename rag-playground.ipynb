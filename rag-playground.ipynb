{
 "cells": [
  {
   "cell_type": "code",
   "execution_count": 3,
   "metadata": {},
   "outputs": [
    {
     "name": "stdout",
     "output_type": "stream",
     "text": [
      "1 \n",
      "Towards Multi-Brain Decoding in Autism:  \n",
      "A Self-Supervised Learning Approach \n",
      " \n",
      "Ghazaleh Ranjabaran1, Quentin Moreau1, Adrien Dubois1, Guillaume \n",
      "Dumas*1,2, \n",
      " \n",
      "1CHU Sainte-Justine Research Centre, Department of Psychiatry, Université de Montréal, \n",
      "Montréal, QC, Canada \n",
      "2Mila – Quebec AI Institute, Montréal, QC, Canada \n",
      "* Corresponding author: guillaume.dumas@ppsp.team \n",
      " \n",
      " \n",
      "Abstract: \n",
      "This study introduces a self -supervised learning (SSL) approach to hyperscanning \n",
      "electroencephalography (EEG) data, targeting the identification of autism spectrum condition \n",
      "(ASC) during social interactions. Hyperscanning enables simultaneous recording of neural activity \n",
      "across interacting individuals, offering a novel path for studying brain-to-brain synchrony in ASC. \n",
      "Leveraging a large -scale, single-brain EEG dataset for SSL pretraining, we developed a multi -\n",
      "brain classification model fine-tuned with hyperscanning data from dyadic interactions involving \n",
      "ASC and neurotypical participants. The\n"
     ]
    }
   ],
   "source": [
    "from langchain.document_loaders import PyPDFLoader\n",
    "\n",
    "loader = PyPDFLoader(\"documents/TWDpdf.pdf\")\n",
    "docs = loader.load()\n",
    "\n",
    "print(docs[0].page_content[:1000])\n"
   ]
  },
  {
   "cell_type": "code",
   "execution_count": 4,
   "metadata": {},
   "outputs": [
    {
     "name": "stdout",
     "output_type": "stream",
     "text": [
      "\n",
      "--- Chunk 1 ---\n",
      "1 \n",
      "Towards Multi-Brain Decoding in Autism:  \n",
      "A Self-Supervised Learning Approach \n",
      " \n",
      "Ghazaleh Ranjabaran1, Quentin Moreau1, Adrien Dubois1, Guillaume \n",
      "Dumas*1,2, \n",
      " \n",
      "1CHU Sainte-Justine Research Centre, Department of Psychiatry, Université de Montréal, \n",
      "Montréal, QC, Canada \n",
      "2Mila – Quebec AI Institut\n",
      "\n",
      "--- Chunk 2 ---\n",
      "Leveraging a large -scale, single-brain EEG dataset for SSL pretraining, we developed a multi -\n",
      "brain classification model fine-tuned with hyperscanning data from dyadic interactions involving \n",
      "ASC and neurotypical participants. The SSL model demonstrated superior performance (78.13% \n",
      "accuracy) comp\n",
      "\n",
      "--- Chunk 3 ---\n",
      "social communication, repetitive behaviors, and restricted interests (Hodges et al., 2020) . \n",
      "Diagnosis typically involves behavioral observations and standardized interviews conducted at \n",
      "various stages of childhood and adolescence (Brihadiswaran et al., 2019; Newschaffer et al., \n",
      "2007). Diagnosing\n"
     ]
    }
   ],
   "source": [
    "from langchain.text_splitter import RecursiveCharacterTextSplitter\n",
    "\n",
    "splitter = RecursiveCharacterTextSplitter(\n",
    "    chunk_size=1000,         # size of each chunk\n",
    "    chunk_overlap=200        # overlap between chunks\n",
    ")\n",
    "\n",
    "# Split the documents\n",
    "split_docs = splitter.split_documents(docs)\n",
    "\n",
    "# View chunks\n",
    "for i, chunk in enumerate(split_docs[:3]):\n",
    "    print(f\"\\n--- Chunk {i+1} ---\\n{chunk.page_content[:300]}\")"
   ]
  }
 ],
 "metadata": {
  "kernelspec": {
   "display_name": "rag-env",
   "language": "python",
   "name": "python3"
  },
  "language_info": {
   "codemirror_mode": {
    "name": "ipython",
    "version": 3
   },
   "file_extension": ".py",
   "mimetype": "text/x-python",
   "name": "python",
   "nbconvert_exporter": "python",
   "pygments_lexer": "ipython3",
   "version": "3.10.11"
  }
 },
 "nbformat": 4,
 "nbformat_minor": 2
}
